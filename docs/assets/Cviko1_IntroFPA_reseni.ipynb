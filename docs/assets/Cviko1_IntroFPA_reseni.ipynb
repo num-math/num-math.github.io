{
  "cells": [
    {
      "cell_type": "markdown",
      "source": [
        "# Cvičení 1: Seznámení s Jupyterem & Úvodem do numeriky"
      ],
      "metadata": {
        "id": "DyouMa4wZ_SO"
      }
    },
    {
      "cell_type": "markdown",
      "source": [
        "---\n",
        "- [poznámky z přednášky](https://www.karlin.mff.cuni.cz/~blechta/znm/assets/uvodZNM.pdf)\n",
        "---"
      ],
      "metadata": {
        "id": "1xY-MjqiZ_1N"
      }
    },
    {
      "cell_type": "markdown",
      "metadata": {
        "id": "kSATToEdAnzn"
      },
      "source": [
        "Celý semestr budeme pracovat s Jupyter notebooks a python. Naučíme se základní *numerické* používání pythonu konkrétně tři důležité knihovny pro numerickou matematiku - `numpy`, `scipy` a `matplotlib`.\n",
        "\n",
        "Pokud jste již s Jupyterem, pythonem, numpy/scipy a matplotlib obeznámeni, můžete přejít rovnou na část 2.\n",
        "\n",
        "Pokud používáte Colab, můžete použít boční menu pro rychlou navigaci do libovolné části tohoto dokumentu.\n",
        "\n",
        "***Koncepce cvičení z numeriky***\n",
        "> - Věci, které po vás chceme abyste udělali jsou mezi dvěma horizontálními čárami. Jsou vždy označeny jako `Tužka a papír` nebo jako `Kódění`, podle typu aktivity, kterou po vás chceme.\n",
        "> - Žádný z následujících worksheetů \"nelze\" stihnout během jednoho cvika. Jsou dimenzovány na zápočtové projekty, ne na cvičení.\n",
        "> - Cílem cvičení je si v daném worksheetu najít úlohu co vypadá zajímavě a tu vypracovat - cvika jsou o vás, ne o nás - a tohle opakovat, dokud není konec cvika.\n",
        ">   - Pokud vás nebaví kódit, tak na ty implementační věci na cvikách vůbec nemusíte šáhnout. Pokud je v jednom cviku hodně kódění, klíďo si dodělejte teorii z předchozího.\n",
        ">   - Pokud vám ta teorie moc nejde a nebo už jí máte dost z analýzy, můžete ji úplně přeskočit a jen si zkusit nakódit ty metody, o kterých jste slyšeli an přednášce a zkusit co dovedou a co už ne.\n",
        "> - To co si máte odnést z každého cvika je shrnuto na začátku worksheetu. Jsou tam vyzdvihnuté i `Základní úlohy` - ty tvoří to jádro daného tématu z pohledu cvičení a na nich pak staví zbytek cvika.\n",
        "\n",
        "***Značení po zbytek semestru na cvikách***\n",
        "> - malá písmena v latince odpovídají skalárům (nebo funkcím do $\\mathbb{R}$), např. $t,y_1, f_1(\\dotsc),\\tau$\n",
        "> - malá tučná písmena odpovídají vektorům (nebo funkcím do $\\mathbb{R}^d$), např. $\\mathbf{b}, \\mathbf{y}(t), \\mathbf{f}(\\mathbf{y},t) \\in \\mathbb{R}^d$.\n",
        "> - velká písmena odpovídají maticím (nebo funkcím do $\\mathbb{R}^{d\\times d}$), např. $A, J_{\\mathbf{x}}$.\n",
        "\n",
        "\n"
      ]
    },
    {
      "cell_type": "markdown",
      "metadata": {
        "id": "OZ4b0tAnwOJt"
      },
      "source": [
        "# Část 1: Jupyteru notebooky a jak na ně"
      ]
    },
    {
      "cell_type": "markdown",
      "source": [
        "Jupyter je užitečná platforma pro psaní a spouštění interaktivního python kódu (případně i kódu v jiných jazycích - Julia, R, ... - ve skutečnosti je Jupyter zkratka pro Julia-Python-R).\n",
        "\n",
        "I když je možné psát Python i mimo Jupyter, Jupyter nám umožňuje:\n",
        "- Spouštět náš kód po částech,\n",
        "- Míchat kód a bohatý text (s formátováním a matematickými vzorci, jako v Maple/Mathematica),\n",
        "- Zobrazovat výstup kódu (grafy, výsledky) bez nutnosti jeho opětovného spuštění."
      ],
      "metadata": {
        "id": "AvJ5l65Ve41F"
      }
    },
    {
      "cell_type": "markdown",
      "metadata": {
        "id": "mCAJUYYbAnzp"
      },
      "source": [
        "## Instalace Jupyteru\n"
      ]
    },
    {
      "cell_type": "markdown",
      "source": [
        "\n",
        "Existuje několik způsobů, jak používat Jupyter, ale my se omezíme na dvě metody - *GoogleColab* a *Jupyter notebooks*.\n",
        "\n",
        "> Preferovaný způsob je skrz google colab, protože nevyžaduje instalaci a skrze link je přístupný odkudkoliv."
      ],
      "metadata": {
        "id": "JxcEJyOCOA4B"
      }
    },
    {
      "cell_type": "markdown",
      "metadata": {
        "id": "C4dBGRGDGPZ2"
      },
      "source": [
        "### Google Colab\n",
        "\n",
        "Google nabízí bezplatný způsob používání Jupyteru z prohlížeče, tj. bez nutnosti instalace. Stačí přejít na https://colab.research.google.com/?hl=cs a přihlásit se pomocí účtu Google. Poté budete mít přístup ke všem souborům .ipynb (**i**nteractive **py**thon **n**ote**b**ooks) uložených na vašem Google Disku nebo si můžete přímo stáhnout soubory .ipynb. Po dokončení práce si je můžete stáhnout kliknutím na „Soubor -> Stáhnout -> Stáhnout soubor .ipynb“ (a případně uložit na Google Disk).\n"
      ]
    },
    {
      "cell_type": "markdown",
      "metadata": {
        "id": "pSnwuxYiGLdG"
      },
      "source": [
        "### Lokální použití\n",
        "\n",
        "Nejjednodušší způsob, jak používat Jupyter lokálně, je nainstalovat si [**Anacondu**](https://en.wikipedia.org/wiki/Anaconda_(Python_distribution)). Anaconda je již nainstalována na počítačích v učebnách TP. Chcete-li ji používat na svém vlastním počítači (Windows, Mac a Linux), můžete si ji stáhnout ([zde](https://www.anaconda.com/products/distribution)).\n",
        "\n",
        "Po instalaci Anacondy můžete spustit program `Anaconda3` nebo `Anaconda Navigator`. Odtud klikněte na Jupyter notebook. Jupyter se poté otevře ve vašem webovém prohlížeči na adrese `http://localhost:8888/tree`. Budete vyzváni k otevření prohlížeče souborů, kde můžete otevřít soubory .ipynb. Můžete také vytvořit nový soubor .ipynb pomocí nabídky „Nový -> Python 3 (ipykernel)“ nebo importovat libovolný soubor z místního disku kliknutím na „nahrát/upload“.\n",
        "\n",
        "> **Důležité**: Když spustíte Jupyter, otevře se ve specifické složce. Jupyter má přístup pouze k této složce a jejím podsložkám a nemůže přistupovat k celému vašemu místnímu disku. To znamená, že musíte umístit všechny potřebné soubory na přístupné místo a pokud si je chcete uložit, tak po ukončení je zase zpátky kopírovat/nahrát někam, kde se vám automaticky nesmažou.\n"
      ]
    },
    {
      "cell_type": "markdown",
      "metadata": {
        "id": "rSArEj26GE2R"
      },
      "source": [
        "### Ostatní možnosti\n",
        "\n",
        "Notebooky můžete také upravovat pomocí svého oblíbeného IDE, jako je Pycharm nebo VS Code. Toto je velmi oblíbená metoda, když používáte notebooky v rámci většího softwarového projektu. Stojí za to to vyzkoušet, pokud chcete používat notebooky Python mimo tento kurz.\n"
      ]
    },
    {
      "cell_type": "markdown",
      "metadata": {
        "id": "_T-gR0dMAnzq"
      },
      "source": [
        "## Jupyter notebooky - buňky"
      ]
    },
    {
      "cell_type": "markdown",
      "source": [
        "Dokumenty v jazyku jupyter se skládají z tzv. **buněk** a existují dva typy. Ty, které obsahují text jako všechny předchozí (nazývané také buňky **markdown**), a ty, které obsahují kód, jako je následující:"
      ],
      "metadata": {
        "id": "xCRCbbeAFmtF"
      }
    },
    {
      "cell_type": "code",
      "execution_count": null,
      "metadata": {
        "colab": {
          "base_uri": "https://localhost:8080/"
        },
        "id": "oEHCbJ_mAnzr",
        "outputId": "223c4820-13e0-487b-e84e-c5a4fe1fbd2f"
      },
      "outputs": [
        {
          "output_type": "execute_result",
          "data": {
            "text/plain": [
              "5"
            ]
          },
          "metadata": {},
          "execution_count": 2
        }
      ],
      "source": [
        "x = 2\n",
        "y = 3\n",
        "\n",
        "x + y\n"
      ]
    },
    {
      "cell_type": "markdown",
      "metadata": {
        "id": "yalRbIBBAnzu"
      },
      "source": [
        "Můžeme spustit buňku tak, že ji vybereme a stiskneme `Ctrl+Enter` nebo `Shift+Enter` (první spustí pouze buňku a druhý spustí buňku a poté vybere další buňku).\n",
        "\n",
        "Alternativně v Jupyteru můžeme vybrat buňku a kliknout na tlačítko \"▶ Run\" - buď v záhlaví buňky (GoogleColab) nebo na začátku stránky (Jupyter notebook via Anaconda)\n",
        "\n",
        "Po spuštění buňky s kódem se zobrazí výstup na posledním řádku. Všechny vyhodnocované proměnné a funkce jsou zachovány, tj. můžeme například znovu použít proměnné `x` a `y` definované v buňce výše:"
      ]
    },
    {
      "cell_type": "code",
      "execution_count": null,
      "metadata": {
        "colab": {
          "base_uri": "https://localhost:8080/"
        },
        "id": "27G5B0A9Anzu",
        "outputId": "240251fc-531c-4d28-9dd8-36d6c6d4011e"
      },
      "outputs": [
        {
          "output_type": "execute_result",
          "data": {
            "text/plain": [
              "6"
            ]
          },
          "metadata": {},
          "execution_count": 3
        }
      ],
      "source": [
        "x * y\n"
      ]
    },
    {
      "cell_type": "markdown",
      "metadata": {
        "id": "M5JUd17vZm9N"
      },
      "source": [
        "Další způsob, jak něco zobrazit, je použití funkce `print`:"
      ]
    },
    {
      "cell_type": "code",
      "execution_count": null,
      "metadata": {
        "colab": {
          "base_uri": "https://localhost:8080/"
        },
        "id": "wTDTKAwsZm9N",
        "outputId": "1157f0b8-9eb8-43a3-d92c-1090b009ea12"
      },
      "outputs": [
        {
          "output_type": "stream",
          "name": "stdout",
          "text": [
            "Hello world!\n",
            "Hodnota x - y je : -1\n"
          ]
        }
      ],
      "source": [
        "print(\"Hello world!\")\n",
        "print(\"Hodnota x - y je :\", x - y)\n"
      ]
    },
    {
      "cell_type": "markdown",
      "metadata": {
        "id": "aBoTvymuZm9N"
      },
      "source": [
        "> **Poznámka**: Pokud jste nespustili první buňku, pak druhá buňka zobrazí chybu s upozorněním, že `x` není definováno."
      ]
    },
    {
      "cell_type": "markdown",
      "metadata": {
        "id": "1qaMQaIJZm9O"
      },
      "source": [
        "Nové buňky v Jupyteru můžete vložit kliknutím na \"Vložit -> Vložit buňku níže\". Tím se vytvoří nová buňka s kódem. Chcete-li buňku změnit na textovou, klikněte na \"Buňka -> Typ buňky -> Markdown\".\n",
        "V Colab můžete kliknout na tlačítko \"+ Kód\" nebo \"+ Text\" v horní části stránky pro vložení buňky s kódem nebo textem.\n",
        "\n",
        "Vyzkoušejte si to nyní vložením buňky s kódem a buňky s textem."
      ]
    },
    {
      "cell_type": "markdown",
      "source": [
        "## Restartování Jupyteru\n",
        "\n"
      ],
      "metadata": {
        "id": "RVDjIX8WcEFj"
      }
    },
    {
      "cell_type": "markdown",
      "source": [
        "Jak jsme viděli, tak proměnné a funkce zadefinované v rámci jednoho jupyter notebooku se uchovávají. Například pokud napíšeme `x=1` do buňky a poté tuto buňku později smažeme. Jupyter si stále myslí, že `x=1`, i když už neexistuje žádný kód, který by definoval `x`. Tento druh věcí může způsobit problémy, které je velmi obtížné odhalit.\n",
        "\n",
        "Nejjednodušším způsobem jak takovýto problém odhalit a zpravit je restartovat \"kernel Jupyteru\" a znovu spustit veškerý svůj kód (zvláště před odevzdáním).\n",
        "\n",
        "> Chcete-li restartovat Jupyter kernel, klikněte na `Kernel -> Restart & Run All`. V Colab použijte `Spuštění -> Restartovat a spustit vše`."
      ],
      "metadata": {
        "id": "3SPMgflCcqWA"
      }
    },
    {
      "cell_type": "markdown",
      "source": [
        "# Část 2: Opáčko prográmka z prváku"
      ],
      "metadata": {
        "id": "Cpm3gn3Wb1Y2"
      }
    },
    {
      "cell_type": "markdown",
      "metadata": {
        "id": "ibf9oPyuAnzv"
      },
      "source": [
        "## Funkce (opáčko prográmka)\n"
      ]
    },
    {
      "cell_type": "markdown",
      "source": [
        "V Pythonu můžeme definovat funkce pomocí následující syntaxe:\n",
        "\n",
        "```python\n",
        "def <název funkce>(<seznam proměnných>):\n",
        "  <tělo funkce>\n",
        "  return <výstup funkce>\n",
        "```\n",
        "\n",
        "> **Pozor**: Na rozdíl od jiných programovacích jazyků mají mezery v Pythonu význam. Například tělo funkce musí být odsazeno. Podle konvence odpovídá jedna jednotka odsazení 4 mezerám a stisknutí tlačítka \"Tab\" vždy vloží 4 mezery.\n",
        "\n",
        "Po spuštění buňky definující funkci můžeme tuto funkci použít kdekoli jinde."
      ],
      "metadata": {
        "id": "kyQBtUoGFq9p"
      }
    },
    {
      "cell_type": "code",
      "execution_count": null,
      "metadata": {
        "id": "B9Q7VLf5Anzv"
      },
      "outputs": [],
      "source": [
        "def f(x):\n",
        "    vysledek = x**2\n",
        "    return vysledek\n"
      ]
    },
    {
      "cell_type": "markdown",
      "metadata": {
        "id": "C2EQG1R1Anzw"
      },
      "source": [
        "Zde funkce `f` vrací druhou mocninu svého vstupu.\n",
        "Nyní, když jsme definovali `f`, ji vyhodnotíme pro `x=2`.\n",
        "\n",
        "**Pozor**: Všimněte si, že na rozdíl od některých jiných jazyků používáme `a ** b` k označení $a^b$. Mnoho jazyků by místo toho používá `a ^ b`, ale v pythonu toto vypočítá `a XOR b`, což v tomto kurzu nebudete nikdy potřebovat.\n"
      ]
    },
    {
      "cell_type": "code",
      "execution_count": null,
      "metadata": {
        "colab": {
          "base_uri": "https://localhost:8080/"
        },
        "id": "YG7YZ0kHAnzx",
        "outputId": "13692cd7-e383-4c4e-ba4a-3c5d26c5b6e0"
      },
      "outputs": [
        {
          "output_type": "execute_result",
          "data": {
            "text/plain": [
              "4"
            ]
          },
          "metadata": {},
          "execution_count": 6
        }
      ],
      "source": [
        "f(x)\n"
      ]
    },
    {
      "cell_type": "markdown",
      "metadata": {
        "id": "P6kyI23tZm9P"
      },
      "source": [
        "Uvnitř funkce můžete použít libovolnou proměnnou definovanou mimo rozsah funkce. Pokud se však pokusíte aktualizovat proměnnou definovanou mimo rozsah funkce, aktualizuje se místo toho pouze lokální kopie proměnné.\n",
        "Proměnné definované uvnitř funkce nelze použít mimo funkci.\n"
      ]
    },
    {
      "cell_type": "code",
      "execution_count": null,
      "metadata": {
        "colab": {
          "base_uri": "https://localhost:8080/"
        },
        "id": "kiGX163lZm9P",
        "outputId": "67ed505c-57fa-4c4f-9357-98ea0a85b672"
      },
      "outputs": [
        {
          "output_type": "stream",
          "name": "stdout",
          "text": [
            "Globalni promena pred zavolanim funkce MojeFunkce je : 2\n",
            "Lokalni promena je : 3\n",
            "Globalni promena uvnitr funkce MojeFunkce je:  4\n",
            "Globalni promena po zavolani funkce MojeFunkce je : 2\n"
          ]
        }
      ],
      "source": [
        "GlobalniPromena = 2\n",
        "\n",
        "\n",
        "def MojeFunkce():\n",
        "    LokalniPromena = 3\n",
        "    GlobalniPromena = 4\n",
        "    print(\"Lokalni promena je :\", LokalniPromena)\n",
        "    print(\n",
        "        \"Globalni promena uvnitr funkce MojeFunkce je: \", GlobalniPromena)\n",
        "\n",
        "\n",
        "print(\"Globalni promena pred zavolanim funkce MojeFunkce je :\", GlobalniPromena)\n",
        "MojeFunkce()\n",
        "print(\"Globalni promena po zavolani funkce MojeFunkce je :\", GlobalniPromena)\n"
      ]
    },
    {
      "cell_type": "markdown",
      "metadata": {
        "id": "B5nhNr18EZqV"
      },
      "source": [
        "Funkce mohou mít více vstupních a výstupních argumentů a jsou zapsány jako seznam oddělený čárkami.\n"
      ]
    },
    {
      "cell_type": "code",
      "execution_count": null,
      "metadata": {
        "colab": {
          "base_uri": "https://localhost:8080/"
        },
        "id": "JZjzM8Y1EVSg",
        "outputId": "0c9539f9-5fc2-4b35-c655-e81f6255ab4a"
      },
      "outputs": [
        {
          "output_type": "execute_result",
          "data": {
            "text/plain": [
              "(7, -1)"
            ]
          },
          "metadata": {},
          "execution_count": 9
        }
      ],
      "source": [
        "def soucet_a_rozdil(a, b):\n",
        "    return a + b, a - b\n",
        "\n",
        "soucet_a_rozdil(3, 4)"
      ]
    },
    {
      "cell_type": "markdown",
      "metadata": {
        "id": "NWpfGzbwFr4b"
      },
      "source": [
        "Všimněte si, že výstup `soucet_a_rozdil` je nyní jeden objekt - dvojice čísel (anglicky 2-tuple). Můžeme si vybrat, zda výstup této funkce uložíme jako dvojici, nebo jako dvě oddělené proměnné, jak je uvedeno níže.\n"
      ]
    },
    {
      "cell_type": "code",
      "execution_count": null,
      "metadata": {
        "colab": {
          "base_uri": "https://localhost:8080/"
        },
        "id": "VFwrsb0_FqRg",
        "outputId": "a9be8051-bf1a-437e-e64d-6dc73a339041"
      },
      "outputs": [
        {
          "output_type": "stream",
          "name": "stdout",
          "text": [
            "Soucet: 7\n",
            "Rozdil: -1\n",
            "Soucet a rozdil (2-tuple): (7, -1)\n",
            "Soucet: 7\n",
            "Rozdil: -1\n"
          ]
        }
      ],
      "source": [
        "soucet, rozdil = soucet_a_rozdil(3, 4)\n",
        "print(\"Soucet:\", soucet)\n",
        "print(\"Rozdil:\", rozdil)\n",
        "\n",
        "SoucetRozdil_tuple = soucet_a_rozdil(3, 4)\n",
        "print(\"Soucet a rozdil (2-tuple):\", SoucetRozdil_tuple)\n",
        "print(\"Soucet:\", SoucetRozdil_tuple[0])\n",
        "print(\"Rozdil:\", SoucetRozdil_tuple[1])"
      ]
    },
    {
      "cell_type": "markdown",
      "metadata": {
        "id": "PFeYDNRjGLZM"
      },
      "source": [
        "Můžeme také přidat volitelné argumenty k funkci. Chcete-li vytvořit funkci s volitelným argumentem, musíme zadat výchozí hodnotu pomocí syntaxe:\n",
        "\n",
        "```python\n",
        "def (<požadované argumenty>, volitelny_argument = vychozi_hodnota):\n",
        "  <tělo funkce>\n",
        "  return <výstup funkce>\n",
        "```\n",
        "\n",
        "Například níže definujeme funkci, která ve výchozím nastavení přičte hodnotu `1` ke svému vstupu, ale tuto hodnotu lze změnit přidáním volitelného argumentu `b=...` při volání funkce.\n"
      ]
    },
    {
      "cell_type": "code",
      "execution_count": null,
      "metadata": {
        "colab": {
          "base_uri": "https://localhost:8080/"
        },
        "id": "22JCJBB_HZBH",
        "outputId": "5fc130e3-bacc-411a-853c-53d9838bb5cc"
      },
      "outputs": [
        {
          "output_type": "stream",
          "name": "stdout",
          "text": [
            "Vystup pro pricitani(10):  11\n",
            "Vystup pro pricitani(10,b=2):  12\n"
          ]
        }
      ],
      "source": [
        "def pricitani(a, b=1):\n",
        "    return a + b\n",
        "\n",
        "print(\"Vystup pro pricitani(10): \",pricitani(10))\n",
        "print(\"Vystup pro pricitani(10,b=2): \",pricitani(10, b=2))"
      ]
    },
    {
      "cell_type": "markdown",
      "metadata": {
        "id": "twt3rIm4Zm9P"
      },
      "source": [
        "## Komentáře (opáčko prográmka)"
      ]
    },
    {
      "cell_type": "markdown",
      "source": [
        "Kód můžeme doplnit komentáři pomocí `#`, což Pythonu říká, aby ignoroval zbytek obsahu řádku.\n",
        "\n",
        "U funkcí je zvykem popsat, co funkce dělá, v řetězci na prvním řádku těla funkce. V takovém popisu je důležité popsat:\n",
        "- Co funkce dělá\n",
        "- Co dělá každý z argumentů a jakékoli další omezení očekávané funkcí (například pokud tvůrce funkce očekává, že `x` bude kladné celé číslo, je dobré to explicitně napsat).\n",
        "- Význam a očekávaný formát výstupu.\n",
        "\n",
        "Je to dobrý zvyk, protože to pomáhá ostatním pochopit, co kód dělá, a pomáhá nám to zorientovat se, když jsme na kódu nějakou dobu nepracovali.\n"
      ],
      "metadata": {
        "id": "5DtHuJvaFvbJ"
      }
    },
    {
      "cell_type": "code",
      "execution_count": null,
      "metadata": {
        "colab": {
          "base_uri": "https://localhost:8080/"
        },
        "id": "9NDp-wBaZm9P",
        "outputId": "01c36658-f7cd-4381-a7d5-eb2343158bd3"
      },
      "outputs": [
        {
          "output_type": "execute_result",
          "data": {
            "text/plain": [
              "5"
            ]
          },
          "metadata": {},
          "execution_count": 13
        }
      ],
      "source": [
        "def soucet(x, y):\n",
        "    \"\"\"\n",
        "    Pro dva skalary (bool, integer, float, complex) na vstupu vratime jejich soucet (stejny format).\n",
        "    \"\"\"\n",
        "    z = x + y  # spocteme soucet\n",
        "    return z  # vratime soucet\n",
        "\n",
        "\n",
        "soucet(2, 3)  # spocteme 2 + 3"
      ]
    },
    {
      "cell_type": "markdown",
      "metadata": {
        "id": "RxJttq6MZm9P"
      },
      "source": [
        "Všimněte si, že jsme v tomto příkladu použili trojité uvozovky `\"\"\" \"\"\"`. To označuje víceřádkový řetězec, což je velmi užitečné, pokud potřebujete delší popis.\n",
        "\n",
        "Obecně:\n",
        "- Komentáře s `#` používejte _pouze_ pro krátké komentáře.\n",
        "- Delší komentáře by měly být zapsány buď do textové buňky, nebo do popisu funkce.\n",
        "- Dobře napsaný kód nepotřebuje mnoho komentářů, protože je obvykle jasné, jaký je účel každého řádku kódu.\n"
      ]
    },
    {
      "cell_type": "markdown",
      "metadata": {
        "id": "EqpKw2UUMp5u"
      },
      "source": [
        "## Podmíněné příkazy (opáčko prográmka)"
      ]
    },
    {
      "cell_type": "markdown",
      "source": [
        "Kód lze spustit podmíněně pomocí příkazů `if`, `elif` a `else` s použitím následující syntaxe:\n",
        "\n",
        "```python\n",
        "if <podmínka>:\n",
        "  <proveďte něco>\n",
        "elif <podmínka>:\n",
        "  <proveďte něco>\n",
        "else:\n",
        "  <proveďte něco jiného>\n",
        "\n",
        "```\n",
        "\n",
        "Například níže se provede pouze příkaz `print(\"x > 5\")`, protože `x < 5` a `x == 5` jsou oba nepravdivé výroky."
      ],
      "metadata": {
        "id": "57-lPKLqF0xA"
      }
    },
    {
      "cell_type": "code",
      "execution_count": null,
      "metadata": {
        "colab": {
          "base_uri": "https://localhost:8080/"
        },
        "id": "eDpOekveMpIt",
        "outputId": "c849f4cd-4b2b-49ce-d4f3-d5651b73c1d3"
      },
      "outputs": [
        {
          "output_type": "stream",
          "name": "stdout",
          "text": [
            "x > 5\n"
          ]
        }
      ],
      "source": [
        "x = 10\n",
        "if x < 5:\n",
        "    print(\"x < 5\")\n",
        "elif x == 5:\n",
        "    print(\"x == 5\")\n",
        "else:\n",
        "    print(\"x > 5\")"
      ]
    },
    {
      "cell_type": "markdown",
      "source": [
        "## Knihovny a import"
      ],
      "metadata": {
        "id": "9LvlUgjm06we"
      }
    },
    {
      "cell_type": "markdown",
      "source": [
        "\n",
        "Jedním z důvodů popularity Pythonu je široká dostupnost knihoven funkcí, tzv. *modules*. V tomto kurzu budeme používat zejména tři: `numpy` (**num**erical **py**thon) a `scipy` (**sci**eintific **py**thon) pro numerické výpočty a `matplotlib` pro grafy.\n",
        "\n",
        "Existuje několik způsobů, jak importovat moduly - my si to ukážeme na pár základních funkcích z knihovny `numpy`\n",
        "- [`zeros()`](https://numpy.org/doc/stable/reference/generated/numpy.zeros.html)\n",
        "- [`ones()`](https://numpy.org/doc/stable/reference/generated/numpy.ones.html)\n",
        "- [`arange()`](https://numpy.org/doc/stable/reference/generated/numpy.arange.html)\n",
        "\n",
        "\n",
        "---\n",
        "> Ve zbytku kurzu budeme importování vždy připravovat za vás, takže nic z popisu níže není technicky nutné znát. Ale pro pochopení toho, co děláme a lepší osvojení si pythonu jsou to šikovné znalosti.\n",
        "---"
      ],
      "metadata": {
        "id": "gwS_ijPG09AP"
      }
    },
    {
      "cell_type": "markdown",
      "source": [
        "### Import 1"
      ],
      "metadata": {
        "id": "6MRULnUd1hH9"
      }
    },
    {
      "cell_type": "markdown",
      "source": [
        "\n",
        "První metoda spočívá v importu celé knihovny/balíčku `numpy` napsáním `import numpy` (kamkoliv nad první místo kde chceme nějakou funkci z této knihovny použít). Poté můžeme volat funkci `zeros()` napsáním `numpy.zeros()`. To nám také umožňuje používat jakoukoli jinou funkci z knihovny `numpy`, například `numpy.arange()`, `numpy.ones()`, atd.\n",
        "\n",
        "Protože některé knihovny používáme v kódění prakticky neustále, nechceme se vypisovat s \"numpy\" při každém použití. K tomu slouží syntax `import numpy as <MojeZkratka>` - klasicky se používá `import numpy as np`. Pak můžeme volat funkci `arange()` napsáním `np.arange()`, funkci `zeros()` napsáním `np.zeros()` atd."
      ],
      "metadata": {
        "id": "O1zbAmjm1hvm"
      }
    },
    {
      "cell_type": "code",
      "source": [
        "import numpy\n",
        "v = numpy.arange(5)\n",
        "print(v)\n",
        "\n",
        "import numpy as RandomZkratka\n",
        "w = RandomZkratka.ones(4)\n",
        "print(w)"
      ],
      "metadata": {
        "id": "BBYnGmv116mp"
      },
      "execution_count": null,
      "outputs": []
    },
    {
      "cell_type": "markdown",
      "source": [
        "### Import 2"
      ],
      "metadata": {
        "id": "BGkQGeMS1-wR"
      }
    },
    {
      "cell_type": "markdown",
      "source": [
        "Druhá metoda spočívá v importu pouze funkce/funkcí, kterou/é potřebujeme (nikoliv celé knihovny). Syntax je `from numpy import arange, zeros, ones_like`. Poté můžeme použít funkce `arange`, `zeros` a `ones_like` přímo.\n"
      ],
      "metadata": {
        "id": "PNnbI3DF2ARr"
      }
    },
    {
      "cell_type": "code",
      "source": [
        "from numpy import arange, zeros, ones\n",
        "\n",
        "a = arange(5)\n",
        "print(a)\n",
        "b = ones(4)\n",
        "print(w)"
      ],
      "metadata": {
        "id": "sbNaPoML2FsB"
      },
      "execution_count": null,
      "outputs": []
    },
    {
      "cell_type": "markdown",
      "source": [
        "### Podknihovny"
      ],
      "metadata": {
        "id": "5lUwqijc2Py7"
      }
    },
    {
      "cell_type": "markdown",
      "source": [
        "Knihovny jako `numpy` a `scipy` mají spoustu podknihoven, které se specializují na různé oblkasti numerické matematiky, například\n",
        "\n",
        " - [numpy.linalg](https://numpy.org/doc/stable/reference/routines.linalg.html) pro operace z lineární algebry\n",
        " - [numpy.polynomial](https://numpy.org/doc/stable/reference/routines.polynomials.html) pro operace s polynomy\n",
        " - [scipy.optimize](https://docs.scipy.org/doc/scipy/tutorial/optimize.html) pro řešení optimalizačních problémů\n",
        " - [scipy.integrate](https://docs.scipy.org/doc/scipy/tutorial/integrate.html)  pro intgraci a řešení systémů ODR\n",
        " - [scipy.interpolate](https://docs.scipy.org/doc/scipy/tutorial/interpolate.html) pro inteprolaci funkcí\n",
        "\n",
        " Stejně jako jsme importovali z `numpy`, můžeme importovat i z těchto podknihoven. Pozor - importováním `numpy` (nebo `scipy`) neimportujeme i všechny podknihovny, ale pouze funkce přímo z `numpy` (nebo `scipy`).\n",
        "\n",
        " Například knihovna `numpy.linalg` obsahuje funkci [`norm`](https://numpy.org/doc/stable/reference/generated/numpy.linalg.norm.html), která spočítá normu vektoru nebo matice. Syntax importu této funkce má opět v zásadě dvě možnosti.\n"
      ],
      "metadata": {
        "id": "5-xs_NMe2UsM"
      }
    },
    {
      "cell_type": "code",
      "source": [
        "import numpy as np\n",
        "v = np.arange(3)\n",
        "\n",
        "### Moznost 1\n",
        "import numpy.linalg as np_la\n",
        "print(\"Norma vektoru [0,1,2] je: \", np_la.norm(v))\n",
        "\n",
        "### Moznost 2\n",
        "from numpy.linalg import norm\n",
        "print(\"Norma vektoru [0,1,2] je: \", norm(v))"
      ],
      "metadata": {
        "colab": {
          "base_uri": "https://localhost:8080/"
        },
        "id": "bKv4CBVl5z2T",
        "outputId": "251c4b1f-311a-4038-de2f-de569c786f36"
      },
      "execution_count": null,
      "outputs": [
        {
          "output_type": "stream",
          "name": "stdout",
          "text": [
            "Norma vektoru [0,1,2] je:  2.23606797749979\n",
            "Norma vektoru [0,1,2] je:  2.23606797749979\n"
          ]
        }
      ]
    },
    {
      "cell_type": "markdown",
      "source": [
        "## Numpy pole (opáčko prográmka)"
      ],
      "metadata": {
        "id": "kdIeu9fQLl5y"
      }
    },
    {
      "cell_type": "markdown",
      "source": [
        "V tomto kurzu budeme pracovat téměř výlučně s daty uloženými v tzv. numpy polích. Není to jediná možnost, ale podle nás je to ta nejvhodnější pro matematický kurz. Důvod je ten, že numpy pole jsou datové struktury, které nejblíže odpovídají matematickým objektům (vektory, matice, tenzory, ...), s kterými počítáme a pracujeme na papíře. Tyto pole je nejprve zapotřebí inicializovat."
      ],
      "metadata": {
        "id": "vind6-JNLqu_"
      }
    },
    {
      "cell_type": "markdown",
      "source": [
        "### Inicializace 1"
      ],
      "metadata": {
        "id": "aMJS6dsXO66Y"
      }
    },
    {
      "cell_type": "markdown",
      "source": [
        "Standardním způspbem je inicializace nulami pomocí `np.zeros()` nebo `np.zeros_like()`.\n",
        "\n",
        "- Vektor délky 18 můžu inicializovat příkazem `np.zeros(18)`.\n",
        "- Pokud chci inicializovat matici rozměru 3x8 reálných čísel, syntax je `np.zeros((3,8))`.\n",
        "- Pole rozměru 3x4x5x6 se inicializuje příkazem  `np.zeros((3,4,5,6))`.\n",
        "- Pokud už máme nějaké pole `P` a chceme další stejných rozměrů, syntax je `np.zeros_like(P)`\n",
        "\n",
        "Analogicky funguje i příkaz `np.ones()`, `np.ones_like()` - pouze nově vytvořené pole bude plné jedniček, nikoliv nul."
      ],
      "metadata": {
        "id": "qIGf5R9fnSvQ"
      }
    },
    {
      "cell_type": "code",
      "source": [
        "import numpy as np\n",
        "\n",
        "n = 3\n",
        "vektor = -5*np.ones(n)\n",
        "matice = 6*np.zeros((n,n))\n",
        "print(\"Vektor:\\n\", vektor)\n",
        "print(\"Matice:\\n\", matice)\n",
        "print(\"Druha matice:\\n\", np.ones_like(matice))"
      ],
      "metadata": {
        "colab": {
          "base_uri": "https://localhost:8080/"
        },
        "id": "7RpJuJieR3dH",
        "outputId": "e327d6af-9f91-478c-c656-dcd5526b9391"
      },
      "execution_count": null,
      "outputs": [
        {
          "output_type": "stream",
          "name": "stdout",
          "text": [
            "Vektor:\n",
            " [-5. -5. -5.]\n",
            "Matice:\n",
            " [[0. 0. 0.]\n",
            " [0. 0. 0.]\n",
            " [0. 0. 0.]]\n",
            "Druha matice:\n",
            " [[1. 1. 1.]\n",
            " [1. 1. 1.]\n",
            " [1. 1. 1.]]\n"
          ]
        }
      ]
    },
    {
      "cell_type": "markdown",
      "source": [
        "> Poznámka: Proč máme za -5 i za 0 uvnitř našich numpy polí tečku? Tím nám python sděluje, že ukládá prvky těchto polí jako reálná čísla (nikoliv jako přirozaná řísla, tzv. integery). Toto lze změnit, např. `np.zeros((n,n), dtype=np.int16)` (dostaneme integery) nebo `np.zeros((n,n), dtype=np.complex128)` (komplexní čísla, kde obě složky jsou reprezentovány jako standardní reálná čísla). Default, tj. `np.zeros((n,n))`, odpovídá `np.zeros((n,n), dtype=np.float64)`. Více o reprezentaci čísel v počítači si povíme v prvním cviku.\n"
      ],
      "metadata": {
        "id": "Y5GOfdR2S2r4"
      }
    },
    {
      "cell_type": "markdown",
      "source": [
        "### Inicializace 2"
      ],
      "metadata": {
        "id": "7u4Ss1GsWIcc"
      }
    },
    {
      "cell_type": "markdown",
      "source": [
        "Alternativním způsobem inicializace je pomocí příkazu `np.array()` a ručním vypsáním hodnot."
      ],
      "metadata": {
        "id": "UUEsT8RZnVmD"
      }
    },
    {
      "cell_type": "code",
      "source": [
        "vektor = np.array([1, 2, 3, 4])\n",
        "matice = np.array([[1, 2, 3], [4, 5, 6], [7, 8, 9]])\n",
        "print(\"Vektor:\\n\", vektor)\n",
        "print(\"Matice:\\n\", matice)"
      ],
      "metadata": {
        "colab": {
          "base_uri": "https://localhost:8080/"
        },
        "id": "beyHbXicWU-U",
        "outputId": "2721b9f9-dacd-47cd-9396-16016df3afe8"
      },
      "execution_count": null,
      "outputs": [
        {
          "output_type": "stream",
          "name": "stdout",
          "text": [
            "Vektor:\n",
            " [1 2 3 4]\n",
            "Matice:\n",
            " [[1 2 3]\n",
            " [4 5 6]\n",
            " [7 8 9]]\n"
          ]
        }
      ]
    },
    {
      "cell_type": "markdown",
      "source": [
        "> Poznámka 1: Tato možnost je vhodná především pro inicializaci nějakých parametrů pro numerické experimenty - když chceme vyzkoušet chování naějaké funkce pro tři různé hodnoty inputu $k = 2,3,5 \\in \\mathbb{N}$, zadefinujeme si nejprve pole `k_totry = np.array([2, 3, 5])`.\n",
        "\n",
        "> Poznámka 2: Typ pole je určen automaticky. Protože jsme použili integery při definici polí `vektor` i `matice`, tak vidíme, že na outputu máme opět pole integerů. Vektor reálných čísel lze dostat např. jako `vektor = np.array([1., 2., 3., 4.])`.\n"
      ],
      "metadata": {
        "id": "jVPWQCNQWh31"
      }
    },
    {
      "cell_type": "markdown",
      "source": [
        "### Práce s poli"
      ],
      "metadata": {
        "id": "J3pdmPmHnJkK"
      }
    },
    {
      "cell_type": "markdown",
      "source": [
        "\n",
        "Do polí vstupujeme pomocí hranatých závorek (na české klávesnici je zkratka `Left-Alt + FG`). Do polí lze zapisovat i s hodnotami uvnitř polí dále pracovat.\n",
        "\n",
        "V pythonu je indexování vždy **od indexu 0** (nikoliv od indexu 1).\n",
        "\n",
        "V pythonu lze indexovat celými čísly. Záporné indexy odpovídají číslování zezadu (tj. poslední prvek vektoru má index -1 atd.).\n",
        "\n",
        "Pro práci s **výřezy** polí používáme syntax `ind_start : ind_end`. Konkrétně u matic lze takto efektivně pracovat s jejich řádky a sloupci (nebo jejich částmi).\n",
        "\n",
        "Pro práci s prvky $n$-dimenzionálního pole, bychom měli vždy specifikovat $n$ indexů (nebo výřezů)."
      ],
      "metadata": {
        "id": "EQSQaoG3c78R"
      }
    },
    {
      "cell_type": "code",
      "source": [
        "v = np.array([2,4,8,16])\n",
        "\n",
        "print(\"Hodnota v[0]: \", v[0])\n",
        "print(\"Hodnota v[1]: \", v[1])\n",
        "print(\"Hodnota v[3]: \", v[3])\n",
        "print(\"Hodnota v[-2]: \", v[-2])\n",
        "print(\"Hodnota v[1:3]: \", v[1:3])\n",
        "print(\"Hodnota v[-3:-1]: \", v[-3:-1])\n",
        "print(\"Hodnota v[0:-1]: \", v[0:-1])\n",
        "print(\"Hodnota v[:]: \", v[:])\n",
        "\n",
        "\n",
        "A = np.array([[1, 2, 3], [4, 5, 6], [7, 8, 9]])\n",
        "print(\"Hodnota A[0,2]: \", A[0,2])\n",
        "print(\"Hodnota A[1,-2]: \", A[1,-2])\n",
        "print(\"Hodnota A[0:2,1]: \", A[0:2,1])\n",
        "print(\"Hodnota A[:,2]: \", A[:,2])\n",
        "print(\"Hodnota A[0,:]: \", A[0,:])\n",
        "print(\"Hodnota A[0:2,0:2]: \\n\", A[0:2,0:2])\n"
      ],
      "metadata": {
        "colab": {
          "base_uri": "https://localhost:8080/"
        },
        "id": "i1R7qKI_gf-g",
        "outputId": "3602379f-ad72-4fe6-c96c-9a0e110c09c5"
      },
      "execution_count": null,
      "outputs": [
        {
          "output_type": "stream",
          "name": "stdout",
          "text": [
            "Hodnota v[0]:  2\n",
            "Hodnota v[1]:  4\n",
            "Hodnota v[3]:  16\n",
            "Hodnota v[-2]:  8\n",
            "Hodnota v[1:3]:  [4 8]\n",
            "Hodnota v[-3:-1]:  [4 8]\n",
            "Hodnota v[0:-1]:  [2 4 8]\n",
            "Hodnota v[:]:  [ 2  4  8 16]\n",
            "Hodnota A[0,2]:  3\n",
            "Hodnota A[1,-2]:  5\n",
            "Hodnota A[0:2,1]:  [2 5]\n",
            "Hodnota A[:,2]:  [3 6 9]\n",
            "Hodnota A[0:2,0:2]: \n",
            " [[1 2]\n",
            " [4 5]]\n"
          ]
        }
      ]
    },
    {
      "cell_type": "markdown",
      "source": [
        "Operace s numpy poli jsou defaultně prováděny po prvcích - násobení skalárem, sčítání, násobení, mocnění (a libovolné další funkce jako `np.sin()`,  `np.exp()`, ...). Pro maticové násobení používáme syntax `A @ B`.\n"
      ],
      "metadata": {
        "id": "01qJIWrFVM8-"
      }
    },
    {
      "cell_type": "code",
      "source": [
        "u = np.ones(3)\n",
        "v = np.array([1, 2, 3])\n",
        "A = np.ones((3, 3))\n",
        "B = np.array([[1, 2, 3], [4, 5, 6], [7, 8, 9]])\n",
        "\n",
        "print(\"Vysledek operace 'u*v':\\n\", u * v)\n",
        "print(\"Vysledek operace 'u@v':\\n\", u @ v)\n",
        "print(\"Vysledek operace 'v**2':\\n\", v**2)\n",
        "print(\"Vysledek operace 'A**2':\\n\", A**2)\n",
        "print(\"Vysledek operace 'A*B':\\n\", A * B)\n",
        "print(\"Vysledek operace 'A@B':\\n\", A @ B)\n",
        "print(\"Vysledek operace 'A@v':\\n\", A @ v)\n",
        "print(\"Vysledek operace 'B*u':\\n\", B * v)"
      ],
      "metadata": {
        "colab": {
          "base_uri": "https://localhost:8080/"
        },
        "id": "9ZhgMRGkZBfY",
        "outputId": "83291b88-952b-44e6-8527-a935f4aea9b9"
      },
      "execution_count": null,
      "outputs": [
        {
          "output_type": "stream",
          "name": "stdout",
          "text": [
            "Vysledek operace 'u*v':\n",
            " [1. 2. 3.]\n",
            "Vysledek operace 'u@v':\n",
            " 6.0\n",
            "Vysledek operace 'v**2':\n",
            " [1 4 9]\n",
            "Vysledek operace 'A**2':\n",
            " [[1. 1. 1.]\n",
            " [1. 1. 1.]\n",
            " [1. 1. 1.]]\n",
            "Vysledek operace 'A*B':\n",
            " [[1. 2. 3.]\n",
            " [4. 5. 6.]\n",
            " [7. 8. 9.]]\n",
            "Vysledek operace 'A@B':\n",
            " [[12. 15. 18.]\n",
            " [12. 15. 18.]\n",
            " [12. 15. 18.]]\n",
            "Vysledek operace 'A@v':\n",
            " [6. 6. 6.]\n",
            "Vysledek operace 'B*u':\n",
            " [[ 1  4  9]\n",
            " [ 4 10 18]\n",
            " [ 7 16 27]]\n"
          ]
        }
      ]
    },
    {
      "cell_type": "markdown",
      "source": [
        "Užitečné numpy funkce na práci s poli jsou\n",
        "\n",
        "- [np.size()](https://numpy.org/doc/stable/reference/generated/numpy.size.html) - počet prvků v poli,\n",
        "- [np.append()](https://numpy.org/doc/stable/reference/generated/numpy.append.html) - \"přilepení\" prvku na konec pole (pozor na dimenze),\n",
        "- [np.concatenate()](https://numpy.org/doc/stable/reference/generated/numpy.concatenate.html) - slepení několika vektorů dohromady do jednoho vektoru (použitelné i pro obecné n-dimenzionální pole, viz anotace),\n",
        "- [np.vstack()](https://numpy.org/doc/stable/reference/generated/numpy.vstack.html) - naskládání vektorů/matic pod sebe (podél řádků),\n",
        "- [np.column_stack()](https://numpy.org/doc/stable/reference/generated/numpy.column_stack.html) - naskládání vektorů/matic za sebe (podél sloupců),\n",
        "- [.shape](https://numpy.org/doc/stable/reference/generated/numpy.shape.html) - pro pole `P.shape` nám vrátí `(n1,...,nk)` tuple, kde `k` je počet dimenzí a pak `n1` je počet prvků `P` v 1. dimenzi,  `n2` je počet prvků `P` v 2. dimenzi atd.,\n",
        "- [.reshape()](https://numpy.org/doc/stable/reference/generated/numpy.reshape.html) - `P.reshape()` umožňuje transformovat pole `P` do nového pole s dimenzemi, které chceme. Konkrétně lze dostat z matice vektor a naopak z vektoru  matici, viz anotace."
      ],
      "metadata": {
        "id": "2BuzvjhGjtaz"
      }
    },
    {
      "cell_type": "code",
      "source": [
        "v = np.arange(9)\n",
        "w = np.arange(3)\n",
        "A = np.array([[10, 20, 30], [40, 50, 60], [70, 80, 90]])\n",
        "\n",
        "print(\"Pocet prvku v:\", np.size(v))\n",
        "print(\"Pocet prvku A:\", np.size(A))\n",
        "\n",
        "v_prodlouzeny = np.append(v, 10)\n",
        "print(\"Prilepeni dalsiho prvku za 'v': \", v_prodlouzeny)\n",
        "\n",
        "v_HODNEprodlouzeny = np.concatenate( (v,v,v) )\n",
        "print(\"Lepeni vektoru : \", v_HODNEprodlouzeny)\n",
        "\n",
        "A_lepeniRadky = np.vstack( (w,A,w) )\n",
        "print(\"Skladani vektoru a matic po radcich: \\n\", A_lepeniRadky)\n",
        "\n",
        "A_lepeniRadky = np.column_stack( (w,A,w) )\n",
        "print(\"Skladani vektoru a matic po sloupcich: \\n\", A_lepeniRadky)\n",
        "\n",
        "print(\"Pocet & velikost dimenzi vektoru 'v': \", v.shape)\n",
        "print(\"Pocet & velikost dimenzi matice 'A': \", A.shape)\n",
        "\n",
        "print(\"Predelani vektoru 'v' na matici 3x3: \\n\", v.reshape(3,3))\n",
        "print(\"Predelani matice 'A' na vektor: \", A.reshape(9))"
      ],
      "metadata": {
        "colab": {
          "base_uri": "https://localhost:8080/"
        },
        "id": "6dOTsotgqsUY",
        "outputId": "d08e9ea7-01ca-46d1-a8a8-1a77d52831f0"
      },
      "execution_count": null,
      "outputs": [
        {
          "output_type": "stream",
          "name": "stdout",
          "text": [
            "Pocet prvku v: 9\n",
            "Pocet prvku A: 9\n",
            "Prilepeni dalsiho prvku za 'v':  [ 0  1  2  3  4  5  6  7  8 10]\n",
            "Lepeni vektoru :  [0 1 2 3 4 5 6 7 8 0 1 2 3 4 5 6 7 8 0 1 2 3 4 5 6 7 8]\n",
            "Skladani vektoru a matic po radcich: \n",
            " [[ 0  1  2]\n",
            " [10 20 30]\n",
            " [40 50 60]\n",
            " [70 80 90]\n",
            " [ 0  1  2]]\n",
            "Skladani vektoru a matic po sloupcich: \n",
            " [[ 0 10 20 30  0]\n",
            " [ 1 40 50 60  1]\n",
            " [ 2 70 80 90  2]]\n",
            "Pocet & velikost dimenzi vektoru 'v':  (9,)\n",
            "Pocet & velikost dimenzi matice 'A':  (3, 3)\n",
            "Predelani vektoru 'v' na matici 3x3: \n",
            " [[0 1 2]\n",
            " [3 4 5]\n",
            " [6 7 8]]\n",
            "Predelani matice 'A' na vektor:  [10 20 30 40 50 60 70 80 90]\n"
          ]
        }
      ]
    },
    {
      "cell_type": "markdown",
      "metadata": {
        "id": "Yxru0E68Zm9P"
      },
      "source": [
        "## For-cykly (opáčko prográmka)\n"
      ]
    },
    {
      "cell_type": "markdown",
      "metadata": {
        "id": "mDw3zlo8Zm9Q"
      },
      "source": [
        "Pro procházení přirozených čísel od `0` (**včetně**) do `n` (**bez**) použijeme **for-cyklus**."
      ]
    },
    {
      "cell_type": "code",
      "execution_count": null,
      "metadata": {
        "colab": {
          "base_uri": "https://localhost:8080/"
        },
        "id": "qP9ycXT6Zm9Q",
        "outputId": "d31b1605-ac87-44ee-f15f-ae60c230fa7c"
      },
      "outputs": [
        {
          "output_type": "stream",
          "name": "stdout",
          "text": [
            "Hodnota promene 'i':  0\n",
            "----------\n",
            "Hodnota promene 'i':  1\n",
            "----------\n",
            "Hodnota promene 'i':  2\n",
            "----------\n",
            "Hodnota promene 'i':  3\n",
            "----------\n",
            "Hodnota promene 'i':  4\n",
            "----------\n"
          ]
        }
      ],
      "source": [
        "n = 5\n",
        "for i in range(n):\n",
        "    print(\"Hodnota promene 'i': \", i)\n",
        "    print(10*\"-\")\n"
      ]
    },
    {
      "cell_type": "markdown",
      "source": [
        "For-cykly můžeme vnořit do dalších for-cyklů a tím pádem pr"
      ],
      "metadata": {
        "id": "0neWUz5PV-1n"
      }
    },
    {
      "cell_type": "markdown",
      "source": [
        "> **Důležité**:  V našem kurzu budeme for-cykly používat téměř výlučně v součinnosti s numpy poli - tj. často budeme používat for-cykly abychom vygenerovali/prošli všechny indexy nějakého numpy pole. Klasické set-upy:\n",
        ">\n",
        "> - Máme zadefinovanou funkci `f`, a chceme spočítat její výstupy pro několik různých vstupů.\n",
        ">\n",
        "> ```python\n",
        "inputy = np.array([ input1, ... , inputk])\n",
        "outputy = np.zeros_like( inputy_totry )\n",
        "for ind in range( np.size(inputy) ):\n",
        "  outputy[ind] = f( inputy[ind] )\n",
        "> ```\n",
        ">\n",
        "> - Máme zadefinovanou funkci `f(x,y)` dvou proměnných, a chceme numericky \"zkoumat\" její závislost na `x` a `y`.\n",
        ">\n",
        "> ```python\n",
        "input_x = np.array([ x1, ... , xn])\n",
        "input_y = np.array([ y1, ... , yn])\n",
        "outputy = np.zeros_like( input_x )\n",
        "for ind_x in range( np.size(input_x) ):\n",
        "  for ind_y in range( np.size(input_y) ):\n",
        "    outputy[ind] = f( input_x[ind_x] , input_y[ind_y] )\n",
        "> ```\n",
        ">\n",
        "> Dalším klasickým použitím for-cyklů je opakováná aplikace jednoduchých operací ve stylu [Banachovy věty](https://en.wikipedia.org/wiki/Banach_fixed-point_theorem) z mat-analýzy. Mimochodem, Banachova věta o kontrakci (aka, o pevnéím bodě) je numericky velmi využívaná a její aplikaci uvidíme během semestru hned několikrát.\n",
        ">\n",
        "> ```python\n",
        "PocatecniHodnota = ...\n",
        "PocetIteraci = ...\n",
        "Hodnota = PocatecniHodnota\n",
        "for ind in range( PocetIteraci ):\n",
        "  Hodnota = JednoduchyVypocet( Hodnota )\n",
        "> ```"
      ],
      "metadata": {
        "id": "BvxUb9gsInU7"
      }
    },
    {
      "cell_type": "code",
      "source": [
        "def UmocniPrvkyVektoru( vektor, mocnina = 2 ):\n",
        "  '''\n",
        "  Pro vektor na inputu vratime vektor stejne delky s prvky odpovidajicimi druhym mocniname prvku inputu.\n",
        "  '''\n",
        "  UmocnenyVektor = np.zeros_like( vektor )\n",
        "\n",
        "  for ind in range( np.size(vektor) ):\n",
        "    UmocnenyVektor[ind] = vektor[ind]**mocnina\n",
        "\n",
        "  return UmocnenyVektor\n",
        "\n",
        "\n",
        "v = np.array([0,1,2,3,4])\n",
        "print(\"Umocneni pomoci nasi funkce 'UmocniPrvkyVektoru()': \", UmocniPrvkyVektoru(v) )\n",
        "print(\"Umocneni pomoci '**': \", v**2 )"
      ],
      "metadata": {
        "colab": {
          "base_uri": "https://localhost:8080/"
        },
        "id": "MCpHJhiEq0dM",
        "outputId": "2844b5cc-e45c-489a-f61e-23ad671012f4"
      },
      "execution_count": null,
      "outputs": [
        {
          "output_type": "stream",
          "name": "stdout",
          "text": [
            "Umocneni pomoci nasi funkce 'UmocniPrvkyVektoru()':  [ 0  1  4  9 16]\n",
            "Umocneni pomoci '**':  [ 0  1  4  9 16]\n"
          ]
        }
      ]
    },
    {
      "cell_type": "markdown",
      "source": [
        "## Kreslení s matplotlib (opáčko prográmka)"
      ],
      "metadata": {
        "id": "4D2TDjLwu-SF"
      }
    },
    {
      "cell_type": "markdown",
      "metadata": {
        "id": "IbqS-BBjZm9U"
      },
      "source": [
        "\n",
        "\n",
        "Pro vykreslování grafů budeme používat knihovnu `matplotlib`, přesněji řečeno podknihovnu `matplotlib.pyplot`, která se obvykle zkracuje na `plt`, tj. importujeme ji jako `import matplotlib.pyplot as plt`.\n",
        "\n",
        "Nejzákladnější použití je `plt.plot(x,y)`, což vytvoří graf ze dvou vektorů stejné velikosti, kde `x` určuje hodnoty na ose x a `y` hodnoty na ose y.\n",
        "\n",
        "Níže definujeme `x` jako vektor obsahující 100 rovnoměrně rozmástěnych bodů mezi $0$ a $2\\pi$ pomocí funkce [`np.linspace()`](https://numpy.org/doc/stable/reference/generated/numpy.linspace.html). Poté vykreslíme funkci $y = \\sin(x)$ pomocí funkce `plt.plot`.\n"
      ]
    },
    {
      "cell_type": "code",
      "execution_count": null,
      "metadata": {
        "colab": {
          "base_uri": "https://localhost:8080/",
          "height": 430
        },
        "id": "C97lQHEGZm9U",
        "outputId": "7d1c65f6-be8d-41bf-cedd-ed8daf6ce8ba"
      },
      "outputs": [
        {
          "output_type": "display_data",
          "data": {
            "text/plain": [
              "<Figure size 640x480 with 1 Axes>"
            ],
            "image/png": "[encoded data removed]"
          },
          "metadata": {}
        }
      ],
      "source": [
        "import matplotlib.pyplot as plt\n",
        "\n",
        "x = np.linspace(0, 2 * np.pi, 100)\n",
        "plt.plot(x, np.sin(x))\n",
        "plt.show()"
      ]
    },
    {
      "cell_type": "markdown",
      "metadata": {
        "id": "CPqzWG-EZm9U"
      },
      "source": [
        "Pro vykreslení více funkcí do stejného grafu stačí volat `plt.plot` vícekrát. Automaticky přiřadí každému grafu jinou barvu.\n"
      ]
    },
    {
      "cell_type": "code",
      "execution_count": null,
      "metadata": {
        "colab": {
          "base_uri": "https://localhost:8080/",
          "height": 430
        },
        "id": "d8Tp3tjIZm9V",
        "outputId": "67de73ff-ddbd-4e93-e1b1-00b1d7e9fbc2"
      },
      "outputs": [
        {
          "output_type": "display_data",
          "data": {
            "text/plain": [
              "<Figure size 640x480 with 1 Axes>"
            ],
            "image/png": "[encoded data removed]"
          },
          "metadata": {}
        }
      ],
      "source": [
        "x = np.linspace(0, 2 * np.pi, 100)\n",
        "plt.plot(x, np.sin(x) ** 2)\n",
        "plt.plot(x, np.cos(x) ** 2)\n",
        "plt.show()"
      ]
    },
    {
      "cell_type": "markdown",
      "metadata": {
        "id": "hQSk5dZrZm9V"
      },
      "source": [
        "Můžeme také změnit způsob, jakým se grafy zobrazují, přidáním dalších argumentů do `plt.plot`. Například přidání argumentu `ls=\"--\"` změní styl čáry (*line style*) na tečkovanou. Přidání argumentu `color=\"black\"` změní barvu čáry na černou.\n",
        "\n",
        "> Další možnosti naleznete [zde](https://matplotlib.org/stable/api/_as_gen/matplotlib.pyplot.plot.html).\n",
        "\n",
        "Můžeme přidat titulek grafu pomocí `plt.title(\"<muj titulek>\")`. Pokud u každého grafu specifikujeme jeho jmeno pomoci argumentu `label=<muj nazev>`, pak můžeme zobrazit legendu obrázku pomocí příkazu `plt.legend()`."
      ]
    },
    {
      "cell_type": "code",
      "execution_count": null,
      "metadata": {
        "colab": {
          "base_uri": "https://localhost:8080/",
          "height": 468
        },
        "id": "EzCsYZ6VZm9V",
        "outputId": "d0203210-5a31-4bb2-c296-16c4936fcb95"
      },
      "outputs": [
        {
          "output_type": "display_data",
          "data": {
            "text/plain": [
              "<Figure size 1000x500 with 1 Axes>"
            ],
            "image/png": "[encoded data removed]"
          },
          "metadata": {}
        }
      ],
      "source": [
        "x = np.linspace(0, 2 * np.pi, 100)\n",
        "\n",
        "plt.figure(figsize=(10, 5))  # velikost obrazku bude (10,5)\n",
        "plt.title(\"Trigonometricke funkce\")\n",
        "plt.plot(x, np.sin(x) ** 2, color=\"red\", ls=\"--\", label=\"$\\sin^2(x)$\")\n",
        "plt.plot(x, np.cos(x) ** 2, color=\"green\", ls=\"-.\", label=\"$\\cos^2(x)$\")\n",
        "plt.legend()\n",
        "plt.show()\n"
      ]
    },
    {
      "cell_type": "markdown",
      "source": [
        "## Reference"
      ],
      "metadata": {
        "id": "zUt_5KH3wNs9"
      }
    },
    {
      "cell_type": "markdown",
      "metadata": {
        "id": "jyglaMOpJWwe"
      },
      "source": [
        "\n",
        "\n",
        "Standardní knihovna Pythonu a většina modulů je velmi dobře zdokumentována. Standardní knihovna Pythonu má dokumentaci v češtině a angličtině, ale většina modulů má pouze dokumentaci v angličtině.   \n",
        "\n",
        "- [Dokumentace základního Pythonu (anglicky)](https://docs.python.org/3/)\n",
        "- [Dokumentace základního Pythonu (česky)](https://docs.python.org/fr/3/)\n",
        "- [Dokumentace numpy/scipy](https://docs.scipy.org/doc/)\n",
        "- [Dokumentace matplotlib](https://matplotlib.org/stable/api/index.html)\n"
      ]
    },
    {
      "cell_type": "markdown",
      "metadata": {
        "id": "y5tgPg4BFRBj"
      },
      "source": [
        "# Část 3: Automatické testy"
      ]
    },
    {
      "cell_type": "markdown",
      "metadata": {
        "id": "YxvQV9pXZm9X"
      },
      "source": [
        "Většina cvičení v tomto kurzu má následující strukturu:\n",
        "- Krok 1: implementujte numerickou metodu z přednášky\n",
        "- Krok 2: koukneme se, co ta metoda v praxi ne/může dělat\n",
        "\n",
        "Aby Krok 2 měl smysl, je zapotřebí, abyste měli Krok 1 správně. K ověření nám budou sloužit tzv. *automatické testy*. Je to vždy kus kódu, který bude volat vámi napsanou funkci a bude testovat, jestli dává správné hodnoty pro známé/ověřitelné/spočítatelné inputy.\n",
        "\n",
        "> **Důležité:** Prosím neměňte názvy funkcí, co máte implementovat ani automatické testy.\n",
        "\n",
        "Poté co napíšete funkci, můžete spustit testovací funkci. Pokud nevrátí žádné chyby, váš kód by měl být v pořádku.\n",
        "Testovací funkce volá vaši funkci s určitými vstupními hodnotami a ověřuje výstup pomocí příkazů `assert` (příkaz `assert` vyhodnotí výraz a převede ho na booleovskou hodnotu - pravda/nepravda - pokud je pravdivý, nedělá nic, a pokud je nepravdivý, vygeneruje chybu).\n"
      ]
    },
    {
      "cell_type": "code",
      "execution_count": null,
      "metadata": {
        "id": "i7KUD2wUZm9Y"
      },
      "outputs": [],
      "source": [
        "def OdectiJedna(x):\n",
        "    \"\"\"\n",
        "    Napiste funkci, ktera od inputu odecte jednicku\n",
        "    \"\"\"\n",
        "    vysledek = x+1\n",
        "    # vysledek = x-1\n",
        "    return vysledek\n"
      ]
    },
    {
      "cell_type": "code",
      "execution_count": null,
      "metadata": {
        "id": "pThilsAnZm9Y",
        "colab": {
          "base_uri": "https://localhost:8080/",
          "height": 297
        },
        "outputId": "def3ca33-6e71-4d9d-fa1f-8cbcfa6975fa"
      },
      "outputs": [
        {
          "output_type": "error",
          "ename": "AssertionError",
          "evalue": "OdectiJedna spatne odecita -- OdectiJedna(2) by melo vyjit 1, ale vychazi 3",
          "traceback": [
            "\u001b[0;31m---------------------------------------------------------------------------\u001b[0m",
            "\u001b[0;31mAssertionError\u001b[0m                            Traceback (most recent call last)",
            "\u001b[0;32m/tmp/ipython-input-7-1114059475.py\u001b[0m in \u001b[0;36m<cell line: 0>\u001b[0;34m()\u001b[0m\n\u001b[1;32m      8\u001b[0m \u001b[0;34m\u001b[0m\u001b[0m\n\u001b[1;32m      9\u001b[0m \u001b[0;31m# Testy probehnou bez hlaseni chyby, takze muzeme predpokladat, ze funkce/kod je v poradku\u001b[0m\u001b[0;34m\u001b[0m\u001b[0;34m\u001b[0m\u001b[0m\n\u001b[0;32m---> 10\u001b[0;31m \u001b[0mtest_OdectiJedna\u001b[0m\u001b[0;34m(\u001b[0m\u001b[0;34m)\u001b[0m\u001b[0;34m\u001b[0m\u001b[0;34m\u001b[0m\u001b[0m\n\u001b[0m",
            "\u001b[0;32m/tmp/ipython-input-7-1114059475.py\u001b[0m in \u001b[0;36mtest_OdectiJedna\u001b[0;34m()\u001b[0m\n\u001b[1;32m      1\u001b[0m \u001b[0;32mdef\u001b[0m \u001b[0mtest_OdectiJedna\u001b[0m\u001b[0;34m(\u001b[0m\u001b[0;34m)\u001b[0m\u001b[0;34m:\u001b[0m\u001b[0;34m\u001b[0m\u001b[0;34m\u001b[0m\u001b[0m\n\u001b[0;32m----> 2\u001b[0;31m     \u001b[0;32massert\u001b[0m \u001b[0mOdectiJedna\u001b[0m\u001b[0;34m(\u001b[0m\u001b[0;36m2\u001b[0m\u001b[0;34m)\u001b[0m \u001b[0;34m==\u001b[0m \u001b[0;36m1\u001b[0m\u001b[0;34m,\u001b[0m \u001b[0;34m\"OdectiJedna spatne odecita -- OdectiJedna(2) by melo vyjit 1, ale vychazi {}\"\u001b[0m\u001b[0;34m.\u001b[0m\u001b[0mformat\u001b[0m\u001b[0;34m(\u001b[0m\u001b[0mOdectiJedna\u001b[0m\u001b[0;34m(\u001b[0m\u001b[0;36m2\u001b[0m\u001b[0;34m)\u001b[0m\u001b[0;34m)\u001b[0m\u001b[0;34m\u001b[0m\u001b[0;34m\u001b[0m\u001b[0m\n\u001b[0m\u001b[1;32m      3\u001b[0m     \u001b[0;32massert\u001b[0m \u001b[0mOdectiJedna\u001b[0m\u001b[0;34m(\u001b[0m\u001b[0;36m0\u001b[0m\u001b[0;34m)\u001b[0m \u001b[0;34m==\u001b[0m \u001b[0;34m-\u001b[0m\u001b[0;36m1\u001b[0m\u001b[0;34m,\u001b[0m \u001b[0;34m\"OdectiJedna spatne odecita -- OdectiJedna(2) by melo vyjit 1, ale vychazi {}\"\u001b[0m\u001b[0;34m.\u001b[0m\u001b[0mformat\u001b[0m\u001b[0;34m(\u001b[0m\u001b[0mOdectiJedna\u001b[0m\u001b[0;34m(\u001b[0m\u001b[0;36m0\u001b[0m\u001b[0;34m)\u001b[0m\u001b[0;34m)\u001b[0m\u001b[0;34m\u001b[0m\u001b[0;34m\u001b[0m\u001b[0m\n\u001b[1;32m      4\u001b[0m     \u001b[0;32massert\u001b[0m \u001b[0mOdectiJedna\u001b[0m\u001b[0;34m(\u001b[0m\u001b[0;36m10\u001b[0m\u001b[0;34m)\u001b[0m \u001b[0;34m==\u001b[0m \u001b[0;36m9\u001b[0m\u001b[0;34m,\u001b[0m \u001b[0;34m\"OdectiJedna spatne odecita -- OdectiJedna(2) by melo vyjit 1, ale vychazi {}\"\u001b[0m\u001b[0;34m.\u001b[0m\u001b[0mformat\u001b[0m\u001b[0;34m(\u001b[0m\u001b[0mOdectiJedna\u001b[0m\u001b[0;34m(\u001b[0m\u001b[0;36m10\u001b[0m\u001b[0;34m)\u001b[0m\u001b[0;34m)\u001b[0m\u001b[0;34m\u001b[0m\u001b[0;34m\u001b[0m\u001b[0m\n\u001b[1;32m      5\u001b[0m     \u001b[0;32massert\u001b[0m \u001b[0mOdectiJedna\u001b[0m\u001b[0;34m(\u001b[0m\u001b[0;34m-\u001b[0m\u001b[0;36m1\u001b[0m\u001b[0;34m)\u001b[0m \u001b[0;34m==\u001b[0m \u001b[0;34m-\u001b[0m\u001b[0;36m2\u001b[0m\u001b[0;34m,\u001b[0m \u001b[0;34m\"OdectiJedna spatne odecita -- OdectiJedna(2) by melo vyjit 1, ale vychazi {}\"\u001b[0m\u001b[0;34m.\u001b[0m\u001b[0mformat\u001b[0m\u001b[0;34m(\u001b[0m\u001b[0mOdectiJedna\u001b[0m\u001b[0;34m(\u001b[0m\u001b[0;34m-\u001b[0m\u001b[0;36m1\u001b[0m\u001b[0;34m)\u001b[0m\u001b[0;34m)\u001b[0m\u001b[0;34m\u001b[0m\u001b[0;34m\u001b[0m\u001b[0m\n",
            "\u001b[0;31mAssertionError\u001b[0m: OdectiJedna spatne odecita -- OdectiJedna(2) by melo vyjit 1, ale vychazi 3"
          ]
        }
      ],
      "source": [
        "def test_OdectiJedna():\n",
        "    assert OdectiJedna(2) == 1, \"OdectiJedna spatne odecita -- OdectiJedna(2) by melo vyjit 1, ale vychazi {}\".format(OdectiJedna(2))\n",
        "    assert OdectiJedna(0) == -1, \"OdectiJedna spatne odecita -- OdectiJedna(2) by melo vyjit 1, ale vychazi {}\".format(OdectiJedna(0))\n",
        "    assert OdectiJedna(10) == 9, \"OdectiJedna spatne odecita -- OdectiJedna(2) by melo vyjit 1, ale vychazi {}\".format(OdectiJedna(10))\n",
        "    assert OdectiJedna(-1) == -2, \"OdectiJedna spatne odecita -- OdectiJedna(2) by melo vyjit 1, ale vychazi {}\".format(OdectiJedna(-1))\n",
        "    assert OdectiJedna(.39) == -.61, \"OdectiJedna spatne odecita -- OdectiJedna(2) by melo vyjit 1, ale vychazi {}\".format(OdectiJedna(.39))\n",
        "    return \"Funkce 'OdectiJedna()' je OK\"\n",
        "\n",
        "test_OdectiJedna()"
      ]
    },
    {
      "cell_type": "markdown",
      "metadata": {
        "id": "HLON-fsZFc01"
      },
      "source": [
        "# Část 4: První kódění"
      ]
    },
    {
      "cell_type": "markdown",
      "metadata": {
        "id": "NzqQMPzUZm9Y"
      },
      "source": [
        "## Cvičení 1 : Jednoduché funkce\n"
      ]
    },
    {
      "cell_type": "markdown",
      "source": [
        "### Úloha 1a"
      ],
      "metadata": {
        "id": "r7w42MJVfhJU"
      }
    },
    {
      "cell_type": "markdown",
      "source": [
        "---\n",
        ">Napište funkci co na vstupu přijme dvě čísla, $a,b$ a na výstupu vrátí čtverec jejich součtu, tj. $(a+b)^2$.\n",
        "---"
      ],
      "metadata": {
        "id": "ucNSgX3DldEa"
      }
    },
    {
      "cell_type": "code",
      "execution_count": null,
      "metadata": {
        "id": "rDAOexTSZm9Y"
      },
      "outputs": [],
      "source": [
        "import numpy as np\n",
        "def CtverecSouctu(a,b):\n",
        "    \"\"\"\n",
        "    Spocitame druhou mocninu souctu vstupu funkce\n",
        "    \"\"\"\n",
        "    return (a+b)**2\n",
        "\n",
        "\n"
      ]
    },
    {
      "cell_type": "code",
      "execution_count": null,
      "metadata": {
        "id": "FYNd-YxtZm9Y"
      },
      "outputs": [],
      "source": [
        "def test_CtverecSouctu():\n",
        "    assert (np.abs(CtverecSouctu(0,1) - 1) < 1e-10), \"(0+1)^2 = 1, nikoliv {}\".format(CtverecSouctu(0,1))\n",
        "    assert (np.abs(CtverecSouctu(-1,1) - 0) < 1e-10), \"(-1+1)^2 = 0, nikoliv {}\".format(CtverecSouctu(-1,1))\n",
        "    assert (np.abs(CtverecSouctu(10,1) - 121) < 1e-10), \"(10+1)^2 = 121, nikoliv {}\".format(CtverecSouctu(10,1))\n",
        "    return \"Funkce 'CtverecSouctu()' je OK\"\n",
        "\n",
        "test_CtverecSouctu()"
      ]
    },
    {
      "cell_type": "markdown",
      "metadata": {
        "id": "wQQnbdG-Zm9Z"
      },
      "source": [
        "### Úloha 1b"
      ]
    },
    {
      "cell_type": "markdown",
      "source": [
        "---\n",
        "Napište funkci která pro vstupní data $a,b,c,x_0 \\in \\mathbb{R}$ vykreslí kvadratickou funkci $y(x)= ax^2 + bx + c$ pro $x\\in (-5,5)$ a vrátí hodnotu $y(x_0)$. Pro vykreslení použijte barvu `tab:red` s čárou typu `-.` a velikostí `ls=2`.<details>\n",
        "  <summary>Chci <font color=\"red\"><b>hint</b></font></summary>\n",
        "\n",
        "  Na vygenerování $n$ bodů na omezeném intervalu $(a,b)$ můžeme použít funkci [np.linspace(a,b,n)](https://numpy.org/doc/stable/reference/generated/numpy.linspace.html)\n",
        "\n",
        "  Na vykreslení bodů $\\{x_1, y_1\\}, \\dotsc \\{x_n,y_n\\}$ můžeme použít funkci [plt.plot(x,y)](https://numpy.org/doc/stable/reference/generated/numpy.linspace.html), kde $x = [x_1,\\dotsc ,x_n]$ a $y = [y_1,\\dotsc ,y_n]$.\n",
        "</details>\n",
        "\n",
        "\n",
        "---"
      ],
      "metadata": {
        "id": "0tReWB3algqe"
      }
    },
    {
      "cell_type": "code",
      "execution_count": null,
      "metadata": {
        "id": "SytG4X0KZm9Z"
      },
      "outputs": [],
      "source": [
        "import numpy as np\n",
        "import matplotlib.pyplot as plt\n",
        "\n",
        "def KvadratickaFce(a,b,c, x0):\n",
        "    \"\"\"\n",
        "    Pro dane koeficienty \"a,b,c\" a bod \"x0\" spocteme fodnotu funkce \"f(x):= ax^2 + bx + c\" v bode \"x0\".\n",
        "    Zaroven kvadratickou funkci \"f(x)\" vykreslime na intervalu (-5,5).\"\n",
        "    \"\"\"\n",
        "    x = np.linspace(-5,5,100)\n",
        "    y = a*x**2 + b*x + c\n",
        "    plt.plot(x,y, color=\"tab:red\", ls=\"-.\", lw=3, label=\"moje KvadratickaFce\")\n",
        "    return a*x0**2 + b*x0 + c\n"
      ]
    },
    {
      "cell_type": "code",
      "source": [
        "def test_KvadratickaFce():\n",
        "    x0 = np.random.rand(1)*10-5;\n",
        "    v = np.random.randn(3)*10; a = np.ceil(v[0]); b = np.ceil(v[1]); c = np.ceil(v[2])\n",
        "    x_test = np.arange(-5,6,1); plt.plot(x_test, a*x_test**2 + b*x_test + c, color=\"tab:blue\", ms=8, marker=\"o\", alpha=.8, lw=0, label=\"spravne hodnoty\");\n",
        "    assert (np.abs(KvadratickaFce(a,b,c,x0) - (a*x0**2 + b*x0 + c)) < 1e-10), \"chyba pro input {}\".format([a,b,c,x0])\n",
        "    plt.legend()\n",
        "    return \"Funkce 'KvadratickaFce()' je OK\"\n",
        "test_KvadratickaFce()"
      ],
      "metadata": {
        "colab": {
          "base_uri": "https://localhost:8080/",
          "height": 448
        },
        "id": "VoIU-7832XN1",
        "outputId": "191a6471-4298-4086-f883-f688f77ea2f6"
      },
      "execution_count": null,
      "outputs": [
        {
          "output_type": "execute_result",
          "data": {
            "text/plain": [
              "\"Funkce 'KvadratickaFce()' je OK\""
            ],
            "application/vnd.google.colaboratory.intrinsic+json": {
              "type": "string"
            }
          },
          "metadata": {},
          "execution_count": 10
        },
        {
          "output_type": "display_data",
          "data": {
            "text/plain": [
              "<Figure size 640x480 with 1 Axes>"
            ],
            "image/png": "[encoded data removed]"
          },
          "metadata": {}
        }
      ]
    },
    {
      "cell_type": "markdown",
      "metadata": {
        "id": "cq3ehuNoZm9Z"
      },
      "source": [
        "## Cvičení 2: Hodnota $\\sqrt{2}$"
      ]
    },
    {
      "cell_type": "markdown",
      "source": [
        "Jak spočítat $\\sqrt{2}$? Začneme tím, že jistě $\\sqrt{2}>1$ (snadno ověříme umocněním nerovnosti) a tedy lze psát\n",
        "\n",
        "$$\n",
        "\\sqrt{2} = 1 + x,\n",
        "$$\n",
        "\n",
        "a hledáme už pouze hodnotu $x>0$. Co o $x$ víme? Umocněním vztahu výše dostaneme\n",
        "\n",
        "$$\n",
        "x^2 + 2x = 1,\n",
        "$$\n",
        "\n",
        "nebo-li\n",
        "\n",
        "$$\n",
        "x = \\frac{1}{2+x} = \\frac{1}{ 2 + \\frac{1}{2+x} } = \\frac{1}{ 2 + \\frac{1}{2+  \\frac{1}{2+x} } } =  \\dotsc .\n",
        "$$\n",
        "\n",
        "Jelikož můžeme tuto rovnost vkládat samu do sebe bez omezení, intuice nám napovídá, že by mohlo platit\n",
        "\n",
        "$$\n",
        "\\sqrt{2} = 1 + \\frac{1}{ 2 + \\frac{1}{2+  \\frac{1}{2+ \\frac{1}{\\ddots}} } }.\n",
        "$$\n",
        "\n",
        "Toto je skutečně pravda a naším cílem bude to numericky ověřit. Na hodinách mat-alýzy bychom nejprve museli vysvětlit, co se myslí tím obrázkem vpravo - patrně půjde o nějakou limitu - tak pro zájemce je to tzv. [řetězový zlomek (continued fraction)](https://en.wikipedia.org/wiki/Continued_fraction) a úzce souvisí s teorií aproximace funkcí."
      ],
      "metadata": {
        "id": "AadhHWkYloPR"
      }
    },
    {
      "cell_type": "markdown",
      "source": [
        "### Úloha 2a"
      ],
      "metadata": {
        "id": "MyJ30jtJlrjl"
      }
    },
    {
      "cell_type": "markdown",
      "source": [
        "---\n",
        "- Napište funkci `JednaLomeno()`, která vyčíslí \"jádro\" našeho \"řetězového zlomku\" výše, tj. $\\tfrac{1}{2+x}$, pro nějaké vstupní $x\\neq -2$.\n",
        "\n",
        "- Napište funkci `AproxSqrt2_x()`, která approximuje $x$ ve $\\sqrt{2} = 1+x$ pomocí výše uvedeného vzorečku, ve kterém se \"zanoříme\" $i$-krát (tzn. ten zlomek bude mít právě $i$ \"levelů\"; např. následující zlomek má v tomto smyslu 2 levely).\n",
        "\n",
        "$$\n",
        "x = \\frac{1}{ 2 + \\frac{1}{2+x} }\n",
        "$$\n",
        "\n",
        "---"
      ],
      "metadata": {
        "id": "csYW2lbmlu5M"
      }
    },
    {
      "cell_type": "code",
      "execution_count": null,
      "metadata": {
        "id": "aKpGxUvGZm9Z"
      },
      "outputs": [],
      "source": [
        "import numpy as np\n",
        "import matplotlib.pyplot as plt\n",
        "\n",
        "def JednaLomeno(x):\n",
        "    \"\"\"\n",
        "    Pro input \"x\" spocitame jadro retezoveho zlomku 1/(2+x)\n",
        "    \"\"\"\n",
        "    return 1/(2+x)\n",
        "\n",
        "\n",
        "def AproxSqrt2_x(i):\n",
        "    \"\"\"\n",
        "    Spocitame i-levelů retezoveho zlomku pro aproximaci \"x\" ve vyjadreni druhe odmocniny ze dvou\n",
        "    \"\"\"\n",
        "    if i == 0:\n",
        "        return 0\n",
        "    else:\n",
        "        return JednaLomeno(AproxSqrt2_x(i-1))\n"
      ]
    },
    {
      "cell_type": "code",
      "execution_count": null,
      "metadata": {
        "id": "IUyN9VmAZm9a",
        "colab": {
          "base_uri": "https://localhost:8080/",
          "height": 35
        },
        "outputId": "21a295a6-f682-439b-a9e2-ac2ce566e271"
      },
      "outputs": [
        {
          "output_type": "execute_result",
          "data": {
            "text/plain": [
              "\"Funkce 'AproxSqrt2_x()' je OK\""
            ],
            "application/vnd.google.colaboratory.intrinsic+json": {
              "type": "string"
            }
          },
          "metadata": {},
          "execution_count": 12
        }
      ],
      "source": [
        "def test_JednaLomeno():\n",
        "    assert ( np.abs( JednaLomeno(1) - 1/3 ) < 1e-12 ), \"Chyba pro x=1\"\n",
        "    assert ( np.abs( JednaLomeno(0) - 1/2 ) < 1e-12 ), \"Chyba pro x=0\"\n",
        "    assert ( np.abs( JednaLomeno(-1) - 1/1 ) < 1e-12 ), \"Chyba pro x=-1\"\n",
        "    return \"Funkce 'JednaLomeno()' je OK\"\n",
        "\n",
        "\n",
        "def test_AproxSqrt2_x():\n",
        "    assert ( np.abs( AproxSqrt2_x(1) - 1/2 ) < 1e-12 ), \"Chyba pro i=1\"\n",
        "    assert ( np.abs( AproxSqrt2_x(2) - 2/5 ) < 1e-12 ), \"Chyba pro i=2\"\n",
        "    assert ( np.abs( AproxSqrt2_x(7) - 169/408 ) < 1e-12 ), \"Chyba pro i=7\"\n",
        "    assert ( np.abs( AproxSqrt2_x(0) ) < 1e-12 ), \"Chyba pro i=0\"\n",
        "    return \"Funkce 'AproxSqrt2_x()' je OK\"\n",
        "\n",
        "test_JednaLomeno()\n",
        "test_AproxSqrt2_x()"
      ]
    },
    {
      "cell_type": "markdown",
      "source": [
        "### Úloha 2b"
      ],
      "metadata": {
        "id": "Oglrja6un2mD"
      }
    },
    {
      "cell_type": "markdown",
      "metadata": {
        "id": "88jYIrzWZm9a"
      },
      "source": [
        "Zavedeme si novou funkci $f_{\\sqrt{2}}(i)$, jako aproximaci $\\sqrt{2}$ pomocí $i$ levelů řetězového zlomku, tj. například\n",
        "\n",
        "$$\n",
        "f_{\\sqrt{2}}(1) = 1+\\frac{1}{2} \\quad \\mathrm{nebo} \\quad f_{\\sqrt{2}}(2) = 1 + \\frac{1}{ 2 + \\frac{1}{2+x} }\n",
        "$$\n",
        "\n",
        "---\n",
        "- Napište funkci `ChybaAproxSqrt2()`, která pro dané přirozené číslo $i$ spočítá chybu approximace $\\sqrt{2} - f_{\\sqrt{2}}(i)$.\n",
        "\n",
        "- Vykreslete graf chyby $\\sqrt{2} - f_{\\sqrt{2}}(i)$ v semilogartmickém měřítku pro $i=0,\\dotsc ,20$.<details>\n",
        "  <summary>Chci <font color=\"red\"><b>hint</b></font></summary>\n",
        "\n",
        "  Na vygenerování čísel $0,1,\\dotsc ,n$ můžeme použít funkci [np.arange(n+1)](https://numpy.org/doc/stable/reference/generated/numpy.arange.html)\n",
        "\n",
        "  Na vykreslení bodů $\\{x_1, y_1\\}, \\dotsc \\{x_n,y_n\\}$ v semi-logaritmickém měřítku můžeme použít funkci [plt.semilogy(x,y)](https://numpy.org/doc/stable/reference/generated/numpy.linspace.html), kde $x = [x_1,\\dotsc ,x_n]$ a $y = [y_1,\\dotsc ,y_n]$.\n",
        "</details>\n",
        "\n",
        "\n",
        "\n",
        "---"
      ]
    },
    {
      "cell_type": "code",
      "execution_count": null,
      "metadata": {
        "id": "O5PuGI6SZm9a",
        "colab": {
          "base_uri": "https://localhost:8080/",
          "height": 430
        },
        "outputId": "1d55dac0-3760-4e74-932a-34514b11aef2"
      },
      "outputs": [
        {
          "output_type": "display_data",
          "data": {
            "text/plain": [
              "<Figure size 640x480 with 1 Axes>"
            ],
            "image/png": "[encoded data removed]"
          },
          "metadata": {}
        }
      ],
      "source": [
        "def ChybaAproxSqrt2(i):\n",
        "    \"\"\"\n",
        "    Spocitame chybu aproximace druhe odmocniny ze dvou\n",
        "    \"\"\"\n",
        "    return np.abs(1+AproxSqrt2_x(i) - np.sqrt(2))\n",
        "\n",
        "def VykresliChybuAproxSqrt2(i_max):\n",
        "    \"\"\"\n",
        "    Vykreslime chybu aproximace druhe odmocniny ze dvou\n",
        "    \"\"\"\n",
        "    errs = np.zeros(i_max+1)\n",
        "    for i in range(0,i_max+1):\n",
        "      errs[i] = ChybaAproxSqrt2(i)\n",
        "\n",
        "    plt.semilogy( np.arange(0,i_max+1,1), errs, color=\"tab:red\", marker=\"*\", ms=8, label=\"Spoctene hodnoty chyb\")\n",
        "    return\n",
        "\n",
        "VykresliChybuAproxSqrt2(20)"
      ]
    },
    {
      "cell_type": "code",
      "execution_count": null,
      "metadata": {
        "id": "S3ZIXGemZm9a",
        "colab": {
          "base_uri": "https://localhost:8080/",
          "height": 430
        },
        "outputId": "a7d8c1a6-6fbb-41d3-efef-c84cfd65d547"
      },
      "outputs": [
        {
          "output_type": "display_data",
          "data": {
            "text/plain": [
              "<Figure size 640x480 with 1 Axes>"
            ],
            "image/png": "[encoded data removed]"
          },
          "metadata": {}
        }
      ],
      "source": [
        "def test_VykresliChybuAproxSqrt2():\n",
        "\n",
        "    TrueErrs = np.array([4.14213562e-01, 8.57864376e-02, 1.42135624e-02, 2.45310429e-03,\n",
        "          4.20458925e-04, 7.21519126e-05, 1.23789411e-05, 2.12390141e-06,\n",
        "          3.64403552e-07, 6.25217744e-08, 1.07270404e-08, 1.84046911e-09,\n",
        "          3.15774740e-10, 5.41782175e-11, 9.29567534e-12, 1.59472435e-12,\n",
        "          2.73780998e-13, 4.68514116e-14, 8.21565038e-15, 1.33226763e-15, 2.220446049250313e-16])\n",
        "    plt.semilogy( np.arange(0,21,1) ,TrueErrs, color=\"tab:blue\", marker=\"o\", ms=10, alpha=.6, lw=0, label=\"Presne hodnoty chyb\");\n",
        "    VykresliChybuAproxSqrt2(20); plt.legend()\n",
        "    return\n",
        "\n",
        "test_VykresliChybuAproxSqrt2()"
      ]
    },
    {
      "cell_type": "markdown",
      "source": [
        "O této metodě aproximace $\\sqrt{2}$ říkáme, že konverguje **lineárně**, tj. existuje $q<1$ takové, že\n",
        "\n",
        "$$\n",
        "\\lim\\limits_{i→ +\\infty} \\frac{ | \\sqrt{2} - f_{\\sqrt{2}}(i) | }{ | \\sqrt{2} - f_{\\sqrt{2}}(i-1) | } = q.\n",
        "$$\n",
        "\n",
        "V mat-alýze 1 se takové konvergenci říkalo \"geometrická\"."
      ],
      "metadata": {
        "id": "EQUYNV6s1Lkv"
      }
    },
    {
      "cell_type": "markdown",
      "source": [
        "## Cvičení 3: Konečnost počítače"
      ],
      "metadata": {
        "id": "2EXM_9zLu1bU"
      }
    },
    {
      "cell_type": "markdown",
      "source": [
        "Počítač je, zcela zjevně, konečná a omezená věc. Takže *nelze* předpokládat, že do něj budeme schopni uložit věci nekonečné *přesně*, tj. nelze očekávat, že konstanty jako $\\sqrt{2}, \\pi$ nebo $e$, které počítač používá jsou opravdu \"správně\". Tady je pár ukázek takových chyb."
      ],
      "metadata": {
        "id": "tCX3EP9Hu9w_"
      }
    },
    {
      "cell_type": "code",
      "source": [
        "print(\"sqrt(2) = \", np.sqrt(2))\n",
        "print(\"sqrt(2)^2 = \", np.sqrt(2)**2)\n",
        "print(\"1/3 = \", 1/3)"
      ],
      "metadata": {
        "id": "eLqJ088rvElC"
      },
      "execution_count": null,
      "outputs": []
    },
    {
      "cell_type": "markdown",
      "source": [
        "Co je možná překvapivější, tak přesně neumíme ani \"hezká\" čísla s konečným desetiným rozvojem."
      ],
      "metadata": {
        "id": "cyqAmt43vKmi"
      }
    },
    {
      "cell_type": "code",
      "source": [
        "print(\"0.1 + 0.2 = \", 0.1+0.2)"
      ],
      "metadata": {
        "id": "zxt7zA4HvTsq"
      },
      "execution_count": null,
      "outputs": []
    },
    {
      "cell_type": "markdown",
      "source": [
        "V `numpy` mají všechny data (proměnné) nějaký **typ** (`type`), který pro čísla určuje práve \"jak moc jim máme věřit\"."
      ],
      "metadata": {
        "id": "EAelmbGQvVRn"
      }
    },
    {
      "cell_type": "code",
      "source": [
        "Jednicky = np.ones(5);\n",
        "print(\"`type` naseho pole `Jednicky` je \", array.dtype)\n",
        "\n",
        "x = np.random.rand(5,2);\n",
        "print(\"`type` naseho pole `x` je \", array.dtype)"
      ],
      "metadata": {
        "id": "2bsMHD7PvaQS"
      },
      "execution_count": null,
      "outputs": []
    },
    {
      "cell_type": "markdown",
      "source": [
        "Jak vidíme, tak pre-set `type` je tzv. [`float64`](https://en.wikipedia.org/wiki/Double-precision_floating-point_format), který používá 64 nul a jedniček v paměti na uložení jednoho čísla v tzv. *floating-point format*.\n",
        "\n",
        "Existují ale i jiné formáty, například:\n",
        "- [`float32`](https://en.wikipedia.org/wiki/Single-precision_floating-point_format) (pouze 32 nul a jedniček, ale ve stejném *floating-point format*)\n",
        "- [`int32`](https://en.wikipedia.org/wiki/Integer_(computer_science)#Long_integer) (32 nul a jedniček, ale ukládáme pouze přirozená čísla, takže \"nepotřebujeme desetinou čárku\" a ten formát funguje jinak)\n",
        "- [`complex128`](https://en.wikipedia.org/wiki/Complex_data_type) (128 nul a jedniček, dvojice `np.float64` pro reálnou a imaginární část; v `numpy` je imaginární jednotka značena jako `j`.)\n",
        "- [`numpy` seznam formátů](https://numpy.org/devdocs/user/basics.types.html)\n",
        "\n",
        "Mezi nimi lze jednoduše přecházet."
      ],
      "metadata": {
        "id": "ywwirCD3vZzY"
      }
    },
    {
      "cell_type": "code",
      "source": [
        "JednickyIntegers = np.ones(5, dtype=np.int32);\n",
        "print(\"`type` naseho pole `JednickyIntegers` je \", JednickyIntegers.dtype,\" : array[0] = {}\".format(JednickyIntegers[0]) )\n",
        "\n",
        "JednickyFloats = np.ones(5, dtype=np.float32);\n",
        "print(\"`type` naseho pole `JednickyFloats` je \", JednickyFloats.dtype,\" : array[0] = {}\".format(JednickyFloats[0]) )\n",
        "\n",
        "JednickyKomplex = np.ones(5,dtype=np.complex128);\n",
        "print(\"`type` naseho pole `JednickyKomplex` je \", JednickyKomplex.dtype,\" : array[0] = {}\".format(JednickyKomplex[0]) )"
      ],
      "metadata": {
        "id": "-4_mqlySvjyi"
      },
      "execution_count": null,
      "outputs": []
    },
    {
      "cell_type": "markdown",
      "source": [
        "Pro `float` formáty (např `float64, float32`) jsou důležité dvě charakteristiky\n",
        "\n",
        "- tzv. `format range` $(x_{min},x_{max})$: $x_{min},x_{max}$ jsou největší a nejmenší kladná čísla, které v daném formátu umíme reprezentovat.\n",
        "- tzv. `machine epsilon` $\\varepsilon_{mach}$: je to vzdálenost od 1 k nejbližšímu většímu číslu, které umíme *přesně* reprezentovat v daném formátu.\n",
        "\n",
        "Platí užitečná věc:\n",
        "\n",
        "\n",
        "> Pro libovolné reálné číslo $x$ t., že $|x|\\in (x_{min},x_{max})$ existuje $x_{format} \\in \\mathbb{R}$, které\n",
        "> - umíme *přesně* reprezentovat v daném formátu\n",
        "> - je \"$\\varepsilon_{mach}$-blízko\" $x$, tj. $$\\frac{|x-x_{format}|}{|x|} \\leq \\frac{1}{2} \\varepsilon_{mach}$$\n",
        "\n",
        "> V počítači jsou operace s čísly naprogramovány tak, aby podobná věc platila i pro základní operace, tj. +,-,/,*. Tedy například pro $x_{format}, y_{format}$ platí\n",
        "\n",
        "$$\n",
        "\\frac{| (x_{format}+y_{format}) - \\mathrm{np.add}(x_{format},y_{format}) |}{|x_{format}+y_{format}|} \\leq \\frac{1}{2} \\varepsilon_{mach}\n",
        "$$\n",
        "\n",
        "\n",
        "V `numpy` se na tyhle věci lze podívat pomocí [`np.finfo()`](https://numpy.org/devdocs/reference/generated/numpy.finfo.html).\n"
      ],
      "metadata": {
        "id": "KooBLQ7_vlxP"
      }
    },
    {
      "cell_type": "code",
      "source": [
        "# Vas kod - napiste prikazy, ktere za pouziti np.finfo vrati eps_mach, x_min a x_max\n",
        "f32_info = np.finfo(np.float32)\n",
        "MachEps = f32_info.eps; print(\"Machine epsilon: {}\".format(MachEps))\n",
        "Xmin = f32_info.tiny; print(\"Nejmensi nezaporne cislo: {}\".format(Xmin))\n",
        "Xmax = f32_info.max; print(\"Nejvetsi nezaporne cislo: {}\".format(Xmax))"
      ],
      "metadata": {
        "id": "G1fn-wgxvolv"
      },
      "execution_count": null,
      "outputs": []
    },
    {
      "cell_type": "code",
      "source": [
        "# Vizualizace presnosti reprezentace cisel ve formatu np.float32\n",
        "a = 1e-10; b = 2\n",
        "x_f32 = np.linspace(a,b,1000, dtype=np.float32)\n",
        "x_f32_as_f64 = x_f32.astype(np.float64)\n",
        "x_exact = np.linspace(a,b,n, dtype=np.float64)\n",
        "plt.semilogy( x_exact, np.abs(x_f32_as_f64 - x_exact)/x_exact, \"rx\", label=\"|x-x_format|/|x|\")\n",
        "plt.semilogy( x_exact, np.ones(len(x_exact))*0.5*MachEps, \"--\", c=\"tab:grey\", label=\"1/2 $\\epsilon_{mach}$\")\n",
        "plt.title(\"chyba reprezentace cisel v np.float32\"); plt.xlabel(\"x\");\n",
        "plt.legend(); plt.show()"
      ],
      "metadata": {
        "id": "6GWt0ZCDwV0k"
      },
      "execution_count": null,
      "outputs": []
    },
    {
      "cell_type": "markdown",
      "source": [
        "---\n",
        "**Jinými slovy, reprezentace dat a výpočty s nimy jsou přesná přinejlepším jen na úrovni $\\frac{1}{2} \\varepsilon_{mach}$.**\n",
        "\n",
        "**Standardní formát je `np.float64` pro který $\\frac{1}{2} \\varepsilon_{mach} \\approx 10^{-16}$, tedy standardně věříme nanejvýše prvním 15-16 číslicím libovolné proměnné.**\n",
        "\n",
        "---"
      ],
      "metadata": {
        "id": "mi1TchAyvx3N"
      }
    }
  ],
  "metadata": {
    "colab": {
      "provenance": [],
      "collapsed_sections": [
        "OZ4b0tAnwOJt",
        "mCAJUYYbAnzp",
        "_T-gR0dMAnzq",
        "RVDjIX8WcEFj",
        "Cpm3gn3Wb1Y2",
        "ibf9oPyuAnzv",
        "twt3rIm4Zm9P",
        "EqpKw2UUMp5u",
        "9LvlUgjm06we",
        "kdIeu9fQLl5y",
        "aMJS6dsXO66Y",
        "7u4Ss1GsWIcc",
        "J3pdmPmHnJkK",
        "Yxru0E68Zm9P",
        "4D2TDjLwu-SF",
        "zUt_5KH3wNs9",
        "y5tgPg4BFRBj",
        "NzqQMPzUZm9Y",
        "r7w42MJVfhJU",
        "wQQnbdG-Zm9Z",
        "cq3ehuNoZm9Z",
        "MyJ30jtJlrjl",
        "Oglrja6un2mD",
        "2EXM_9zLu1bU"
      ],
      "toc_visible": true
    },
    "kernelspec": {
      "display_name": "Python 3 (ipykernel)",
      "language": "python",
      "name": "python3"
    },
    "language_info": {
      "codemirror_mode": {
        "name": "ipython",
        "version": 3
      },
      "file_extension": ".py",
      "mimetype": "text/x-python",
      "name": "python",
      "nbconvert_exporter": "python",
      "pygments_lexer": "ipython3",
      "version": "3.12.4"
    },
    "vscode": {
      "interpreter": {
        "hash": "53e3584a94e8c7d99898d4a2cb47bea56236d638682d6d87741bc73b63e7db14"
      }
    }
  },
  "nbformat": 4,
  "nbformat_minor": 0
}